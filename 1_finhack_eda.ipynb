{
 "cells": [
  {
   "cell_type": "code",
   "execution_count": 1,
   "metadata": {},
   "outputs": [],
   "source": [
    "# Install dependencies on jnbk\n",
    "#!pip install -r requirements.txt"
   ]
  },
  {
   "cell_type": "code",
   "execution_count": 2,
   "metadata": {},
   "outputs": [],
   "source": [
    "## Import modules\n",
    "import pandas as pd\n",
    "import seaborn as sns\n",
    "import matplotlib as mpl\n",
    "import matplotlib.pyplot as plt\n",
    "#import pandas_bokeh\n",
    "import os\n",
    "import sys"
   ]
  },
  {
   "cell_type": "code",
   "execution_count": 4,
   "metadata": {},
   "outputs": [
    {
     "name": "stdout",
     "output_type": "stream",
     "text": [
      "Notebook running from: /home/naneen/Documents/DataScience/Projects/FinHack_LT_AV/py3-finhack/bin/python3\n",
      "Pandas: 1.2.1\n",
      "Matplotlib: 3.3.4\n",
      "Seaborn: 0.11.1\n"
     ]
    }
   ],
   "source": [
    "## Check modules version\n",
    "print('Notebook running from:',sys.executable)\n",
    "print('Pandas:',pd.__version__)\n",
    "print('Matplotlib:',mpl.__version__)\n",
    "print('Seaborn:',sns.__version__)"
   ]
  },
  {
   "cell_type": "code",
   "execution_count": 5,
   "metadata": {},
   "outputs": [
    {
     "data": {
      "text/plain": [
       "['train_bureau.xlsx', 'data_dict.xlsx', '.DS_Store', 'train_Data.xlsx']"
      ]
     },
     "execution_count": 5,
     "metadata": {},
     "output_type": "execute_result"
    }
   ],
   "source": [
    "## List data-raw\n",
    "path_pwd = os.getcwd()\n",
    "path_data_train = path_pwd+'/'+'data_raw/Train/' \n",
    "os.listdir(path_data_train)"
   ]
  },
  {
   "cell_type": "code",
   "execution_count": 6,
   "metadata": {},
   "outputs": [
    {
     "name": "stdout",
     "output_type": "stream",
     "text": [
      "Customer file: /home/naneen/Documents/DataScience/Projects/FinHack_LT_AV/data_raw/Train/train_Data.xlsx\n",
      "Bureau file: /home/naneen/Documents/DataScience/Projects/FinHack_LT_AV/data_raw/Train/train_bureau.xlsx\n"
     ]
    }
   ],
   "source": [
    "## Set trainig data files\n",
    "file_customer_train = path_data_train+'train_Data.xlsx'\n",
    "file_bureau_train   = path_data_train+'train_bureau.xlsx'\n",
    "print('Customer file:', file_customer_train)\n",
    "print('Bureau file:', file_bureau_train)"
   ]
  },
  {
   "cell_type": "code",
   "execution_count": 13,
   "metadata": {},
   "outputs": [
    {
     "data": {
      "text/html": [
       "<div>\n",
       "<style scoped>\n",
       "    .dataframe tbody tr th:only-of-type {\n",
       "        vertical-align: middle;\n",
       "    }\n",
       "\n",
       "    .dataframe tbody tr th {\n",
       "        vertical-align: top;\n",
       "    }\n",
       "\n",
       "    .dataframe thead th {\n",
       "        text-align: right;\n",
       "    }\n",
       "</style>\n",
       "<table border=\"1\" class=\"dataframe\">\n",
       "  <thead>\n",
       "    <tr style=\"text-align: right;\">\n",
       "      <th></th>\n",
       "      <th>ID</th>\n",
       "      <th>Frequency</th>\n",
       "      <th>InstlmentMode</th>\n",
       "      <th>LoanStatus</th>\n",
       "      <th>PaymentMode</th>\n",
       "      <th>BranchID</th>\n",
       "      <th>Area</th>\n",
       "      <th>Tenure</th>\n",
       "      <th>AssetCost</th>\n",
       "      <th>AmountFinance</th>\n",
       "      <th>...</th>\n",
       "      <th>ManufacturerID</th>\n",
       "      <th>SupplierID</th>\n",
       "      <th>LTV</th>\n",
       "      <th>SEX</th>\n",
       "      <th>AGE</th>\n",
       "      <th>MonthlyIncome</th>\n",
       "      <th>City</th>\n",
       "      <th>State</th>\n",
       "      <th>ZiPCODE</th>\n",
       "      <th>Top-up Month</th>\n",
       "    </tr>\n",
       "  </thead>\n",
       "  <tbody>\n",
       "    <tr>\n",
       "      <th>0</th>\n",
       "      <td>1</td>\n",
       "      <td>Monthly</td>\n",
       "      <td>Arrear</td>\n",
       "      <td>Closed</td>\n",
       "      <td>PDC_E</td>\n",
       "      <td>1</td>\n",
       "      <td>NaN</td>\n",
       "      <td>48</td>\n",
       "      <td>450000</td>\n",
       "      <td>275000.0</td>\n",
       "      <td>...</td>\n",
       "      <td>1568</td>\n",
       "      <td>21946</td>\n",
       "      <td>61.11</td>\n",
       "      <td>M</td>\n",
       "      <td>49.0</td>\n",
       "      <td>35833.33</td>\n",
       "      <td>RAISEN</td>\n",
       "      <td>MADHYA PRADESH</td>\n",
       "      <td>464993.0</td>\n",
       "      <td>&gt; 48 Months</td>\n",
       "    </tr>\n",
       "    <tr>\n",
       "      <th>1</th>\n",
       "      <td>2</td>\n",
       "      <td>Monthly</td>\n",
       "      <td>Advance</td>\n",
       "      <td>Closed</td>\n",
       "      <td>PDC</td>\n",
       "      <td>333</td>\n",
       "      <td>BHOPAL</td>\n",
       "      <td>47</td>\n",
       "      <td>485000</td>\n",
       "      <td>350000.0</td>\n",
       "      <td>...</td>\n",
       "      <td>1062</td>\n",
       "      <td>34802</td>\n",
       "      <td>70.00</td>\n",
       "      <td>M</td>\n",
       "      <td>23.0</td>\n",
       "      <td>666.67</td>\n",
       "      <td>SEHORE</td>\n",
       "      <td>MADHYA PRADESH</td>\n",
       "      <td>466001.0</td>\n",
       "      <td>No Top-up Service</td>\n",
       "    </tr>\n",
       "    <tr>\n",
       "      <th>2</th>\n",
       "      <td>3</td>\n",
       "      <td>Quatrly</td>\n",
       "      <td>Arrear</td>\n",
       "      <td>Active</td>\n",
       "      <td>Direct Debit</td>\n",
       "      <td>1</td>\n",
       "      <td>NaN</td>\n",
       "      <td>68</td>\n",
       "      <td>690000</td>\n",
       "      <td>519728.0</td>\n",
       "      <td>...</td>\n",
       "      <td>1060</td>\n",
       "      <td>127335</td>\n",
       "      <td>69.77</td>\n",
       "      <td>M</td>\n",
       "      <td>39.0</td>\n",
       "      <td>45257.00</td>\n",
       "      <td>BHOPAL</td>\n",
       "      <td>MADHYA PRADESH</td>\n",
       "      <td>462030.0</td>\n",
       "      <td>12-18 Months</td>\n",
       "    </tr>\n",
       "    <tr>\n",
       "      <th>3</th>\n",
       "      <td>7</td>\n",
       "      <td>Monthly</td>\n",
       "      <td>Advance</td>\n",
       "      <td>Closed</td>\n",
       "      <td>Billed</td>\n",
       "      <td>125</td>\n",
       "      <td>GUNA</td>\n",
       "      <td>48</td>\n",
       "      <td>480000</td>\n",
       "      <td>400000.0</td>\n",
       "      <td>...</td>\n",
       "      <td>1060</td>\n",
       "      <td>25094</td>\n",
       "      <td>80.92</td>\n",
       "      <td>M</td>\n",
       "      <td>24.0</td>\n",
       "      <td>20833.33</td>\n",
       "      <td>ASHOK NAGAR</td>\n",
       "      <td>MADHYA PRADESH</td>\n",
       "      <td>473335.0</td>\n",
       "      <td>&gt; 48 Months</td>\n",
       "    </tr>\n",
       "    <tr>\n",
       "      <th>4</th>\n",
       "      <td>8</td>\n",
       "      <td>Monthly</td>\n",
       "      <td>Arrear</td>\n",
       "      <td>Closed</td>\n",
       "      <td>Billed</td>\n",
       "      <td>152</td>\n",
       "      <td>BILASPUR</td>\n",
       "      <td>44</td>\n",
       "      <td>619265</td>\n",
       "      <td>440000.0</td>\n",
       "      <td>...</td>\n",
       "      <td>1046</td>\n",
       "      <td>21853</td>\n",
       "      <td>71.05</td>\n",
       "      <td>M</td>\n",
       "      <td>56.0</td>\n",
       "      <td>27313.67</td>\n",
       "      <td>BILASPUR</td>\n",
       "      <td>CHATTISGARH</td>\n",
       "      <td>495442.0</td>\n",
       "      <td>36-48 Months</td>\n",
       "    </tr>\n",
       "  </tbody>\n",
       "</table>\n",
       "<p>5 rows × 26 columns</p>\n",
       "</div>"
      ],
      "text/plain": [
       "   ID Frequency InstlmentMode LoanStatus   PaymentMode  BranchID      Area  \\\n",
       "0   1   Monthly        Arrear     Closed         PDC_E         1       NaN   \n",
       "1   2   Monthly       Advance     Closed           PDC       333    BHOPAL   \n",
       "2   3   Quatrly        Arrear     Active  Direct Debit         1       NaN   \n",
       "3   7   Monthly       Advance     Closed        Billed       125      GUNA   \n",
       "4   8   Monthly        Arrear     Closed        Billed       152  BILASPUR   \n",
       "\n",
       "   Tenure  AssetCost  AmountFinance  ...  ManufacturerID  SupplierID    LTV  \\\n",
       "0      48     450000       275000.0  ...            1568       21946  61.11   \n",
       "1      47     485000       350000.0  ...            1062       34802  70.00   \n",
       "2      68     690000       519728.0  ...            1060      127335  69.77   \n",
       "3      48     480000       400000.0  ...            1060       25094  80.92   \n",
       "4      44     619265       440000.0  ...            1046       21853  71.05   \n",
       "\n",
       "  SEX   AGE  MonthlyIncome         City           State   ZiPCODE  \\\n",
       "0   M  49.0       35833.33       RAISEN  MADHYA PRADESH  464993.0   \n",
       "1   M  23.0         666.67       SEHORE  MADHYA PRADESH  466001.0   \n",
       "2   M  39.0       45257.00       BHOPAL  MADHYA PRADESH  462030.0   \n",
       "3   M  24.0       20833.33  ASHOK NAGAR  MADHYA PRADESH  473335.0   \n",
       "4   M  56.0       27313.67     BILASPUR     CHATTISGARH  495442.0   \n",
       "\n",
       "        Top-up Month  \n",
       "0        > 48 Months  \n",
       "1  No Top-up Service  \n",
       "2       12-18 Months  \n",
       "3        > 48 Months  \n",
       "4       36-48 Months  \n",
       "\n",
       "[5 rows x 26 columns]"
      ]
     },
     "execution_count": 13,
     "metadata": {},
     "output_type": "execute_result"
    }
   ],
   "source": [
    "## Load customer trainig data\n",
    "df_customer = pd.read_excel(file_customer_train)\n",
    "df_customer.head()"
   ]
  },
  {
   "cell_type": "code",
   "execution_count": 16,
   "metadata": {},
   "outputs": [
    {
     "data": {
      "text/plain": [
       "(128655, 26)"
      ]
     },
     "execution_count": 16,
     "metadata": {},
     "output_type": "execute_result"
    }
   ],
   "source": [
    "## Size of customer training data\n",
    "df_customer.shape"
   ]
  },
  {
   "cell_type": "markdown",
   "metadata": {},
   "source": [
    "**Obesrvations**:\n",
    "- Loading customer _xlsx_ data has been successful."
   ]
  },
  {
   "cell_type": "markdown",
   "metadata": {},
   "source": [
    "***"
   ]
  },
  {
   "cell_type": "markdown",
   "metadata": {},
   "source": [
    "### Exploratory Data Analysis on Customer data"
   ]
  },
  {
   "cell_type": "code",
   "execution_count": 50,
   "metadata": {},
   "outputs": [],
   "source": [
    "# Run the python script to load util functions\n",
    "# similar to import modules functionality\n",
    "%run './utils.py'"
   ]
  },
  {
   "cell_type": "code",
   "execution_count": 41,
   "metadata": {},
   "outputs": [
    {
     "name": "stdout",
     "output_type": "stream",
     "text": [
      "Column id:   0 \tName: ID           \tDataType: int64\n",
      "Column id:   1 \tName: Frequency    \tDataType: object\n",
      "Column id:   2 \tName: InstlmentMode \tDataType: object\n",
      "Column id:   3 \tName: LoanStatus   \tDataType: object\n",
      "Column id:   4 \tName: PaymentMode  \tDataType: object\n",
      "Column id:   5 \tName: BranchID     \tDataType: int64\n",
      "Column id:   6 \tName: Area         \tDataType: object\n",
      "Column id:   7 \tName: Tenure       \tDataType: int64\n",
      "Column id:   8 \tName: AssetCost    \tDataType: int64\n",
      "Column id:   9 \tName: AmountFinance \tDataType: float64\n",
      "Column id:  10 \tName: DisbursalAmount \tDataType: float64\n",
      "Column id:  11 \tName: EMI          \tDataType: float64\n",
      "Column id:  12 \tName: DisbursalDate \tDataType: datetime64[ns]\n",
      "Column id:  13 \tName: MaturityDAte \tDataType: datetime64[ns]\n",
      "Column id:  14 \tName: AuthDate     \tDataType: datetime64[ns]\n",
      "Column id:  15 \tName: AssetID      \tDataType: int64\n",
      "Column id:  16 \tName: ManufacturerID \tDataType: int64\n",
      "Column id:  17 \tName: SupplierID   \tDataType: int64\n",
      "Column id:  18 \tName: LTV          \tDataType: float64\n",
      "Column id:  19 \tName: SEX          \tDataType: object\n",
      "Column id:  20 \tName: AGE          \tDataType: float64\n",
      "Column id:  21 \tName: MonthlyIncome \tDataType: float64\n",
      "Column id:  22 \tName: City         \tDataType: object\n",
      "Column id:  23 \tName: State        \tDataType: object\n",
      "Column id:  24 \tName: ZiPCODE      \tDataType: float64\n",
      "Column id:  25 \tName: Top-up Month \tDataType: object\n"
     ]
    }
   ],
   "source": [
    "# Loop over customer columns list to display datatypes of attribute\n",
    "show_features_datatypes(df_customer)"
   ]
  },
  {
   "cell_type": "markdown",
   "metadata": {},
   "source": [
    "### **Observations:**\n",
    "- Issues that could/should be addressed during feature engineering are listed here. \n",
    "- **Frequency** is object datatype. Can be easily changed to a numerical value. \n",
    "- **InstlmentMode** can be an imporatant attribute that we can change to numerical value. \n",
    "- **LoanStatus** is a simple yes/no. So, we could change into binary values 1/0 i.e., One-hot encoding! \n",
    "- **PaymentMode** as explained in data dict file needs some processing.\n",
    "- **Sex** could be changed into numerical variable.\n",
    "- **Top-up Month** is the target variable that we will be trying to predict. We should definitely look into this attribute as an object datatyep for this attributre makes no sense to me. Let's not forget about this!"
   ]
  },
  {
   "cell_type": "markdown",
   "metadata": {},
   "source": [
    "***"
   ]
  },
  {
   "cell_type": "code",
   "execution_count": 45,
   "metadata": {},
   "outputs": [
    {
     "name": "stdout",
     "output_type": "stream",
     "text": [
      "There are 0 duplicated rows in the dataset.\n"
     ]
    }
   ],
   "source": [
    "# Drop duplicate rows from dataframe, if any!\n",
    "drop_duplicate_rows(df_customer)"
   ]
  },
  {
   "cell_type": "code",
   "execution_count": 44,
   "metadata": {},
   "outputs": [],
   "source": [
    "## Customer colnames into a list\n",
    "list_customer_columns = df_customer.columns.to_list()"
   ]
  },
  {
   "cell_type": "code",
   "execution_count": 51,
   "metadata": {},
   "outputs": [
    {
     "name": "stdout",
     "output_type": "stream",
     "text": [
      "Column ID: 0\n",
      "Details of feature: ID\n",
      "         - datatype: int64\n",
      "         - col.size: (128655,)\n",
      "         - NaN.vals: 0\n",
      "\n",
      "\n",
      "Column ID: 1\n",
      "Details of feature: Frequency\n",
      "         - datatype: object\n",
      "         - col.size: (128655,)\n",
      "         - NaN.vals: 0\n",
      "\n",
      "\n",
      "Column ID: 2\n",
      "Details of feature: InstlmentMode\n",
      "         - datatype: object\n",
      "         - col.size: (128655,)\n",
      "         - NaN.vals: 0\n",
      "\n",
      "\n",
      "Column ID: 3\n",
      "Details of feature: LoanStatus\n",
      "         - datatype: object\n",
      "         - col.size: (128655,)\n",
      "         - NaN.vals: 0\n",
      "\n",
      "\n",
      "Column ID: 4\n",
      "Details of feature: PaymentMode\n",
      "         - datatype: object\n",
      "         - col.size: (128655,)\n",
      "         - NaN.vals: 0\n",
      "\n",
      "\n",
      "Column ID: 5\n",
      "Details of feature: BranchID\n",
      "         - datatype: int64\n",
      "         - col.size: (128655,)\n",
      "         - NaN.vals: 0\n",
      "\n",
      "\n",
      "Column ID: 6\n",
      "Details of feature: Area\n",
      "         - datatype: object\n",
      "         - col.size: (128655,)\n",
      "         - NaN.vals: 11653\n",
      "\n",
      "\n",
      "Column ID: 7\n",
      "Details of feature: Tenure\n",
      "         - datatype: int64\n",
      "         - col.size: (128655,)\n",
      "         - NaN.vals: 0\n",
      "\n",
      "\n",
      "Column ID: 8\n",
      "Details of feature: AssetCost\n",
      "         - datatype: int64\n",
      "         - col.size: (128655,)\n",
      "         - NaN.vals: 0\n",
      "\n",
      "\n",
      "Column ID: 9\n",
      "Details of feature: AmountFinance\n",
      "         - datatype: float64\n",
      "         - col.size: (128655,)\n",
      "         - NaN.vals: 0\n",
      "\n",
      "\n",
      "Column ID: 10\n",
      "Details of feature: DisbursalAmount\n",
      "         - datatype: float64\n",
      "         - col.size: (128655,)\n",
      "         - NaN.vals: 0\n",
      "\n",
      "\n",
      "Column ID: 11\n",
      "Details of feature: EMI\n",
      "         - datatype: float64\n",
      "         - col.size: (128655,)\n",
      "         - NaN.vals: 0\n",
      "\n",
      "\n",
      "Column ID: 12\n",
      "Details of feature: DisbursalDate\n",
      "         - datatype: datetime64[ns]\n",
      "         - col.size: (128655,)\n",
      "         - NaN.vals: 0\n",
      "\n",
      "\n",
      "Column ID: 13\n",
      "Details of feature: MaturityDAte\n",
      "         - datatype: datetime64[ns]\n",
      "         - col.size: (128655,)\n",
      "         - NaN.vals: 1\n",
      "\n",
      "\n",
      "Column ID: 14\n",
      "Details of feature: AuthDate\n",
      "         - datatype: datetime64[ns]\n",
      "         - col.size: (128655,)\n",
      "         - NaN.vals: 0\n",
      "\n",
      "\n",
      "Column ID: 15\n",
      "Details of feature: AssetID\n",
      "         - datatype: int64\n",
      "         - col.size: (128655,)\n",
      "         - NaN.vals: 0\n",
      "\n",
      "\n",
      "Column ID: 16\n",
      "Details of feature: ManufacturerID\n",
      "         - datatype: int64\n",
      "         - col.size: (128655,)\n",
      "         - NaN.vals: 0\n",
      "\n",
      "\n",
      "Column ID: 17\n",
      "Details of feature: SupplierID\n",
      "         - datatype: int64\n",
      "         - col.size: (128655,)\n",
      "         - NaN.vals: 0\n",
      "\n",
      "\n",
      "Column ID: 18\n",
      "Details of feature: LTV\n",
      "         - datatype: float64\n",
      "         - col.size: (128655,)\n",
      "         - NaN.vals: 0\n",
      "\n",
      "\n",
      "Column ID: 19\n",
      "Details of feature: SEX\n",
      "         - datatype: object\n",
      "         - col.size: (128655,)\n",
      "         - NaN.vals: 59\n",
      "\n",
      "\n",
      "Column ID: 20\n",
      "Details of feature: AGE\n",
      "         - datatype: float64\n",
      "         - col.size: (128655,)\n",
      "         - NaN.vals: 59\n",
      "\n",
      "\n",
      "Column ID: 21\n",
      "Details of feature: MonthlyIncome\n",
      "         - datatype: float64\n",
      "         - col.size: (128655,)\n",
      "         - NaN.vals: 234\n",
      "\n",
      "\n",
      "Column ID: 22\n",
      "Details of feature: City\n",
      "         - datatype: object\n",
      "         - col.size: (128655,)\n",
      "         - NaN.vals: 11256\n",
      "\n",
      "\n",
      "Column ID: 23\n",
      "Details of feature: State\n",
      "         - datatype: object\n",
      "         - col.size: (128655,)\n",
      "         - NaN.vals: 0\n",
      "\n",
      "\n",
      "Column ID: 24\n",
      "Details of feature: ZiPCODE\n",
      "         - datatype: float64\n",
      "         - col.size: (128655,)\n",
      "         - NaN.vals: 372\n",
      "\n",
      "\n",
      "Column ID: 25\n",
      "Details of feature: Top-up Month\n",
      "         - datatype: object\n",
      "         - col.size: (128655,)\n",
      "         - NaN.vals: 0\n",
      "\n",
      "\n"
     ]
    }
   ],
   "source": [
    "## Loop over list of customer columns to get summary\n",
    "for icnt, colname in enumerate(list_customer_columns):\n",
    "    print('Column ID:',icnt)\n",
    "    show_feature_summary(df_customer, colname, display_uniques=False)"
   ]
  },
  {
   "cell_type": "markdown",
   "metadata": {},
   "source": [
    "### **Observations:**:\n",
    "- There are missing values that should be addressed. \n",
    "-  Missing values are found in:\n",
    "    - **Area**: 11653\n",
    "    - **MaturityDAte**: 1\n",
    "    - **SEX**: 59\n",
    "    - **AGE**: 59\n",
    "    - **MonthlyIncome**: 234\n",
    "    - **City**: 11256\n",
    "    - **ZiPCODE**: 372"
   ]
  },
  {
   "cell_type": "markdown",
   "metadata": {},
   "source": [
    "***"
   ]
  },
  {
   "cell_type": "markdown",
   "metadata": {},
   "source": [
    "### Target attribute:\n",
    "**Top-up Month** is the target variable to predict. Let's see how it looks. "
   ]
  },
  {
   "cell_type": "code",
   "execution_count": 59,
   "metadata": {},
   "outputs": [
    {
     "data": {
      "text/plain": [
       "No Top-up Service    106677\n",
       " > 48 Months           8366\n",
       "36-48 Months           3656\n",
       "24-30 Months           3492\n",
       "30-36 Months           3062\n",
       "18-24 Months           2368\n",
       "12-18 Months           1034\n",
       "Name: Top-up Month, dtype: int64"
      ]
     },
     "execution_count": 59,
     "metadata": {},
     "output_type": "execute_result"
    }
   ],
   "source": [
    "df_customer['Top-up Month'].value_counts()"
   ]
  },
  {
   "cell_type": "markdown",
   "metadata": {},
   "source": [
    "***"
   ]
  },
  {
   "cell_type": "markdown",
   "metadata": {},
   "source": [
    "## Features/Attributes \n",
    "\n",
    "### Frequency:"
   ]
  },
  {
   "cell_type": "code",
   "execution_count": 69,
   "metadata": {},
   "outputs": [
    {
     "data": {
      "text/plain": [
       "Half Yearly    76248\n",
       "Monthly        31150\n",
       "Quatrly        20795\n",
       "BI-Monthly       462\n",
       "Name: Frequency, dtype: int64"
      ]
     },
     "execution_count": 69,
     "metadata": {},
     "output_type": "execute_result"
    }
   ],
   "source": [
    "df_customer['Frequency'].value_counts()"
   ]
  },
  {
   "cell_type": "markdown",
   "metadata": {},
   "source": [
    "### InstllmentMode"
   ]
  },
  {
   "cell_type": "code",
   "execution_count": 70,
   "metadata": {},
   "outputs": [
    {
     "data": {
      "text/plain": [
       "Arrear     122349\n",
       "Advance      6306\n",
       "Name: InstlmentMode, dtype: int64"
      ]
     },
     "execution_count": 70,
     "metadata": {},
     "output_type": "execute_result"
    }
   ],
   "source": [
    "df_customer['InstlmentMode'].value_counts()"
   ]
  },
  {
   "cell_type": "markdown",
   "metadata": {},
   "source": [
    "### LoanStatus"
   ]
  },
  {
   "cell_type": "code",
   "execution_count": 71,
   "metadata": {},
   "outputs": [
    {
     "data": {
      "text/plain": [
       "Closed    94457\n",
       "Active    34198\n",
       "Name: LoanStatus, dtype: int64"
      ]
     },
     "execution_count": 71,
     "metadata": {},
     "output_type": "execute_result"
    }
   ],
   "source": [
    "df_customer['LoanStatus'].value_counts()"
   ]
  },
  {
   "cell_type": "markdown",
   "metadata": {},
   "source": [
    "### PaymentMode"
   ]
  },
  {
   "cell_type": "code",
   "execution_count": 72,
   "metadata": {},
   "outputs": [
    {
     "data": {
      "text/plain": [
       "Direct Debit    31766\n",
       "ECS             31390\n",
       "PDC             26617\n",
       "Billed          26486\n",
       "PDC_E            9937\n",
       "Auto Debit        843\n",
       "SI Reject         744\n",
       "Cheque            442\n",
       "ECS Reject        417\n",
       "Escrow              7\n",
       "PDC Reject          6\n",
       "Name: PaymentMode, dtype: int64"
      ]
     },
     "execution_count": 72,
     "metadata": {},
     "output_type": "execute_result"
    }
   ],
   "source": [
    "df_customer['PaymentMode'].value_counts()"
   ]
  },
  {
   "cell_type": "markdown",
   "metadata": {},
   "source": [
    "### BranchID"
   ]
  },
  {
   "cell_type": "code",
   "execution_count": 73,
   "metadata": {},
   "outputs": [
    {
     "data": {
      "text/plain": [
       "24     4474\n",
       "199    4194\n",
       "50     2842\n",
       "166    2381\n",
       "202    2208\n",
       "       ... \n",
       "139       8\n",
       "400       5\n",
       "408       4\n",
       "395       2\n",
       "386       2\n",
       "Name: BranchID, Length: 189, dtype: int64"
      ]
     },
     "execution_count": 73,
     "metadata": {},
     "output_type": "execute_result"
    }
   ],
   "source": [
    "df_customer['BranchID'].value_counts()"
   ]
  },
  {
   "cell_type": "markdown",
   "metadata": {},
   "source": [
    "***"
   ]
  },
  {
   "cell_type": "markdown",
   "metadata": {},
   "source": [
    "### Phase-1 PyCaret"
   ]
  },
  {
   "cell_type": "code",
   "execution_count": null,
   "metadata": {},
   "outputs": [],
   "source": []
  },
  {
   "cell_type": "code",
   "execution_count": null,
   "metadata": {},
   "outputs": [],
   "source": []
  },
  {
   "cell_type": "code",
   "execution_count": null,
   "metadata": {},
   "outputs": [],
   "source": []
  },
  {
   "cell_type": "code",
   "execution_count": null,
   "metadata": {},
   "outputs": [],
   "source": []
  },
  {
   "cell_type": "code",
   "execution_count": null,
   "metadata": {},
   "outputs": [],
   "source": []
  },
  {
   "cell_type": "code",
   "execution_count": null,
   "metadata": {},
   "outputs": [],
   "source": []
  },
  {
   "cell_type": "code",
   "execution_count": null,
   "metadata": {},
   "outputs": [],
   "source": []
  }
 ],
 "metadata": {
  "kernelspec": {
   "display_name": "Python 3",
   "language": "python",
   "name": "python3"
  },
  "language_info": {
   "codemirror_mode": {
    "name": "ipython",
    "version": 3
   },
   "file_extension": ".py",
   "mimetype": "text/x-python",
   "name": "python",
   "nbconvert_exporter": "python",
   "pygments_lexer": "ipython3",
   "version": "3.8.5"
  }
 },
 "nbformat": 4,
 "nbformat_minor": 4
}
